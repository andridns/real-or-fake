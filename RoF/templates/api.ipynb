{
 "cells": [
  {
   "cell_type": "code",
   "execution_count": 49,
   "metadata": {},
   "outputs": [],
   "source": [
    "from flask import Flask, request\n",
    "from flask_restful import Resource, Api\n",
    "from sqlalchemy import create_engine\n",
    "from json import dumps\n",
    "from flask.json import jsonify\n",
    "import sqlite3\n",
    "\n",
    "db_connect = create_engine('sqlite:///chinook.db')\n",
    "app = Flask(__name__)\n",
    "api = Api(app)\n",
    "\n",
    "cols = ['index','author','comment','line','truth']"
   ]
  },
  {
   "cell_type": "code",
   "execution_count": 52,
   "metadata": {},
   "outputs": [
    {
     "data": {
      "text/plain": [
       "'Syender Arif: Entah knp gua pgn jadi photografer -.-'"
      ]
     },
     "execution_count": 52,
     "metadata": {},
     "output_type": "execute_result"
    }
   ],
   "source": [
    "id=100\n",
    "conn = sqlite3.connect(\"rnn.db\")\n",
    "qstr = f\"select * from popMag WHERE id={id}\"\n",
    "query = conn.execute(qstr).fetchall()[0]\n",
    "idx, author, comment, line, truth = query\n",
    "line"
   ]
  },
  {
   "cell_type": "code",
   "execution_count": null,
   "metadata": {},
   "outputs": [],
   "source": []
  },
  {
   "cell_type": "code",
   "execution_count": 32,
   "metadata": {},
   "outputs": [
    {
     "data": {
      "text/plain": [
       "[(100,\n",
       "  'Syender Arif',\n",
       "  'Entah knp gua pgn jadi photografer -.-',\n",
       "  'Syender Arif: Entah knp gua pgn jadi photografer -.-',\n",
       "  1)]"
      ]
     },
     "execution_count": 32,
     "metadata": {},
     "output_type": "execute_result"
    }
   ],
   "source": [
    "class Youtube_Comment(Resource):\n",
    "    def get(self, idx):\n",
    "        conn = sqlite3.connect(\"rnn.db\")\n",
    "        qstr = f\"SELECT * FROM popMag WHERE id={id}\"\n",
    "        query = conn.execute(qstr).fetchall()[0]\n",
    "        result = dict(zip(cols,list(query)))\n",
    "        return jsonify(result)\n",
    "    \n",
    "api.add_resource(Youtube_Comment, '/ytcmt/<idx>') # Route_3\n"
   ]
  },
  {
   "cell_type": "code",
   "execution_count": 27,
   "metadata": {},
   "outputs": [
    {
     "data": {
      "text/plain": [
       "[(2, 'fitrah harzi', 'oh ye oh no', 'fitrah harzi: oh ye oh no', 1)]"
      ]
     },
     "execution_count": 27,
     "metadata": {},
     "output_type": "execute_result"
    }
   ],
   "source": [
    "class Comments(Resource):\n",
    "    def get(self):\n",
    "        conn = seqlite.connect(\"rnn.db\")\n",
    "        qst = f\"SELECT * FROM popMag WHERE id={id}\"\n",
    "        query = conn.execute(qstr).fetchall()[0]"
   ]
  },
  {
   "cell_type": "code",
   "execution_count": null,
   "metadata": {},
   "outputs": [],
   "source": [
    "class Employees(Resource):\n",
    "    def get(self):\n",
    "        conn = db_connect.connect() # connect to database\n",
    "        query = conn.execute(\"select * from employees\") # This line performs query and returns json result\n",
    "        return {'employees': [i[0] for i in query.cursor.fetchall()]} # Fetches first column that is Employee ID\n",
    "\n",
    "class Tracks(Resource):\n",
    "    def get(self):\n",
    "        conn = db_connect.connect()\n",
    "        query = conn.execute(\"select trackid, name, composer, unitprice from tracks;\")\n",
    "        result = {'data': [dict(zip(tuple (query.keys()) ,i)) for i in query.cursor]}\n",
    "        return jsonify(result)\n",
    "\n",
    "class Employees_Name(Resource):\n",
    "    def get(self, employee_id):\n",
    "        conn = db_connect.connect()\n",
    "        query = conn.execute(\"select * from employees where EmployeeId =%d \"  %int(employee_id))\n",
    "        result = {'data': [dict(zip(tuple (query.keys()) ,i)) for i in query.cursor]}\n",
    "        return jsonify(result)\n",
    "        \n",
    "\n",
    "api.add_resource(Employees, '/employees') # Route_1\n",
    "api.add_resource(Tracks, '/tracks') # Route_2\n",
    "api.add_resource(Employees_Name, '/employees/<employee_id>') # Route_3\n",
    "\n",
    "\n",
    "if __name__ == '__main__':\n",
    "     app.run(port='5002')"
   ]
  },
  {
   "cell_type": "code",
   "execution_count": null,
   "metadata": {},
   "outputs": [],
   "source": []
  },
  {
   "cell_type": "code",
   "execution_count": null,
   "metadata": {},
   "outputs": [],
   "source": []
  }
 ],
 "metadata": {
  "kernelspec": {
   "display_name": "Python 3",
   "language": "python",
   "name": "python3"
  },
  "language_info": {
   "codemirror_mode": {
    "name": "ipython",
    "version": 3
   },
   "file_extension": ".py",
   "mimetype": "text/x-python",
   "name": "python",
   "nbconvert_exporter": "python",
   "pygments_lexer": "ipython3",
   "version": "3.6.5"
  }
 },
 "nbformat": 4,
 "nbformat_minor": 2
}
