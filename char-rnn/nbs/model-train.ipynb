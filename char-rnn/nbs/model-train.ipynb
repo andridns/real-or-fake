{
 "cells": [
  {
   "cell_type": "code",
   "execution_count": 1,
   "metadata": {},
   "outputs": [
    {
     "name": "stdout",
     "output_type": "stream",
     "text": [
      "  % Total    % Received % Xferd  Average Speed   Time    Time     Time  Current\n",
      "                                 Dload  Upload   Total   Spent    Left  Speed\n",
      "100 4255k  100 4255k    0     0  4016k      0  0:00:01  0:00:01 --:--:-- 4018k\n"
     ]
    }
   ],
   "source": [
    "!curl -o bulldog_e.txt https://storage.googleapis.com/simpsons2morty/bulldog_e.txt"
   ]
  },
  {
   "cell_type": "code",
   "execution_count": 5,
   "metadata": {
    "scrolled": false
   },
   "outputs": [
    {
     "name": "stdout",
     "output_type": "stream",
     "text": [
      "Using CUDA\n",
      "Training for 20000 epochs...\n",
      "  0%|                                                 | 0/20000 [00:00<?, ?it/s]\n",
      "Traceback (most recent call last):\n",
      "  File \"train.py\", line 95, in <module>\n",
      "    loss = train(*random_training_set(args.chunk_len, args.batch_size))\n",
      "  File \"train.py\", line 63, in train\n",
      "    loss.backward()\n",
      "  File \"/home/andri/torch/lib/python3.6/site-packages/torch/tensor.py\", line 93, in backward\n",
      "    torch.autograd.backward(self, gradient, retain_graph, create_graph)\n",
      "  File \"/home/andri/torch/lib/python3.6/site-packages/torch/autograd/__init__.py\", line 89, in backward\n",
      "    allow_unreachable=True)  # allow_unreachable flag\n",
      "RuntimeError: one of the variables needed for gradient computation has been modified by an inplace operation\n"
     ]
    }
   ],
   "source": [
    "!python train.py bulldog_e.txt \\\n",
    "--model gru \\\n",
    "--n_epochs 20000 \\\n",
    "--print_every 100 \\\n",
    "--hidden_size 768 \\\n",
    "--n_layers 3 \\\n",
    "--learning_rate 0.001 \\\n",
    "--chunk_len 128 \\\n",
    "--batch_size 32 \\\n",
    "--cuda"
   ]
  },
  {
   "cell_type": "code",
   "execution_count": null,
   "metadata": {},
   "outputs": [],
   "source": []
  },
  {
   "cell_type": "code",
   "execution_count": null,
   "metadata": {},
   "outputs": [],
   "source": [
    "!python generate.py pop_mag.pt \\\n",
    "--prime_str \"miss\" \n",
    "--predict_len 400 \n",
    "--temperature 0.1\n",
    "--cuda"
   ]
  },
  {
   "cell_type": "code",
   "execution_count": null,
   "metadata": {},
   "outputs": [],
   "source": []
  },
  {
   "cell_type": "code",
   "execution_count": null,
   "metadata": {},
   "outputs": [],
   "source": []
  },
  {
   "cell_type": "code",
   "execution_count": null,
   "metadata": {},
   "outputs": [],
   "source": []
  },
  {
   "cell_type": "code",
   "execution_count": null,
   "metadata": {},
   "outputs": [],
   "source": []
  },
  {
   "cell_type": "code",
   "execution_count": null,
   "metadata": {},
   "outputs": [],
   "source": []
  },
  {
   "cell_type": "code",
   "execution_count": null,
   "metadata": {},
   "outputs": [],
   "source": []
  },
  {
   "cell_type": "code",
   "execution_count": null,
   "metadata": {},
   "outputs": [],
   "source": []
  },
  {
   "cell_type": "code",
   "execution_count": null,
   "metadata": {},
   "outputs": [],
   "source": []
  },
  {
   "cell_type": "code",
   "execution_count": null,
   "metadata": {},
   "outputs": [],
   "source": []
  },
  {
   "cell_type": "code",
   "execution_count": null,
   "metadata": {},
   "outputs": [],
   "source": []
  },
  {
   "cell_type": "code",
   "execution_count": null,
   "metadata": {},
   "outputs": [],
   "source": []
  },
  {
   "cell_type": "code",
   "execution_count": null,
   "metadata": {},
   "outputs": [],
   "source": []
  }
 ],
 "metadata": {
  "kernelspec": {
   "display_name": "Python 3",
   "language": "python",
   "name": "python3"
  },
  "language_info": {
   "codemirror_mode": {
    "name": "ipython",
    "version": 3
   },
   "file_extension": ".py",
   "mimetype": "text/x-python",
   "name": "python",
   "nbconvert_exporter": "python",
   "pygments_lexer": "ipython3",
   "version": "3.6.3"
  }
 },
 "nbformat": 4,
 "nbformat_minor": 2
}
